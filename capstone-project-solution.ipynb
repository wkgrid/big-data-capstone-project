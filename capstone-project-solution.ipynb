{
 "cells": [
  {
   "cell_type": "markdown",
   "id": "ccf77959-6b59-4578-bd4e-2e59e96bb4cd",
   "metadata": {},
   "source": [
    "# Capstone Project - Solution"
   ]
  },
  {
   "cell_type": "markdown",
   "id": "47876e59-7918-4537-9b1d-480044dc61a4",
   "metadata": {},
   "source": [
    "### 1. Create Spark Session"
   ]
  },
  {
   "cell_type": "code",
   "execution_count": 1,
   "id": "4f1b4bb2-ec92-4804-ab93-45cf8692b9ed",
   "metadata": {},
   "outputs": [
    {
     "data": {
      "text/plain": [
       "'pyspark version=3.2.1'"
      ]
     },
     "execution_count": 1,
     "metadata": {},
     "output_type": "execute_result"
    }
   ],
   "source": [
    "import pyspark\n",
    "from pyspark.sql import SparkSession\n",
    "from pyspark.sql.types import *\n",
    "from pyspark.sql.functions import col, udf, sum, desc, count, countDistinct, isnan\n",
    "f\"pyspark version={pyspark.__version__}\""
   ]
  },
  {
   "cell_type": "code",
   "execution_count": 3,
   "id": "cd2795fa-a008-4458-9290-572701c158d5",
   "metadata": {},
   "outputs": [],
   "source": [
    "spark = SparkSession.builder \\\n",
    "    .master('spark://ThinkPad-X1:7077') \\\n",
    "    .appName('spark-local-cluster') \\\n",
    "    .getOrCreate() \n",
    "sc = spark.sparkContext"
   ]
  },
  {
   "cell_type": "code",
   "execution_count": 4,
   "id": "f3b2d337-7d3e-41f6-b84b-42b7b3062a41",
   "metadata": {},
   "outputs": [],
   "source": [
    "pwd = !pwd\n",
    "pwd = pwd[0]"
   ]
  },
  {
   "cell_type": "code",
   "execution_count": 5,
   "id": "731cc337-35a2-4d05-84f3-9bbe10dd222d",
   "metadata": {},
   "outputs": [
    {
     "name": "stdout",
     "output_type": "stream",
     "text": [
      "/home/wojtek/Workspace/max-ml/big-data\n"
     ]
    }
   ],
   "source": [
    "print(pwd)"
   ]
  },
  {
   "cell_type": "markdown",
   "id": "a5595072-230c-4115-86f9-fe347aa02778",
   "metadata": {},
   "source": [
    "### 2. Load sample of generated data and verify the content"
   ]
  },
  {
   "cell_type": "code",
   "execution_count": 6,
   "id": "890021b3-20c9-4680-94ad-0e9022ad5abf",
   "metadata": {},
   "outputs": [
    {
     "name": "stderr",
     "output_type": "stream",
     "text": [
      "                                                                                \r"
     ]
    }
   ],
   "source": [
    "# Load the first file of user_purchases\n",
    "p0 = spark.read.csv(f'file://{pwd}/generated-data/user_purchases/user_purchases_0.csv.gz', header=True, inferSchema=True)"
   ]
  },
  {
   "cell_type": "code",
   "execution_count": 7,
   "id": "c98abe81-2f99-4776-8d95-ff2c92596207",
   "metadata": {},
   "outputs": [
    {
     "name": "stdout",
     "output_type": "stream",
     "text": [
      "+--------------------+-------------------+-----------+-----------+\n",
      "|          purchaseId|       purchaseTime|billingCost|isConfirmed|\n",
      "+--------------------+-------------------+-----------+-----------+\n",
      "|e3e70682-c209-4ca...|2020-12-13 16:00:20|     845.98|      false|\n",
      "|82e2e662-f728-44f...|2020-12-26 08:35:13|     760.37|      false|\n",
      "|d4713d60-c8a7-463...|2020-11-20 21:32:23|     426.37|       true|\n",
      "|9558867f-5ba9-4fa...|2020-11-04 10:01:00|     266.33|      false|\n",
      "|23c6612f-4826-467...|2020-10-11 09:56:36|     516.16|      false|\n",
      "+--------------------+-------------------+-----------+-----------+\n",
      "only showing top 5 rows\n",
      "\n"
     ]
    }
   ],
   "source": [
    "p0.show(5)"
   ]
  },
  {
   "cell_type": "code",
   "execution_count": 8,
   "id": "da9b39ee-a7d1-466d-8f05-58dec653748e",
   "metadata": {},
   "outputs": [
    {
     "name": "stdout",
     "output_type": "stream",
     "text": [
      "root\n",
      " |-- purchaseId: string (nullable = true)\n",
      " |-- purchaseTime: string (nullable = true)\n",
      " |-- billingCost: double (nullable = true)\n",
      " |-- isConfirmed: boolean (nullable = true)\n",
      "\n"
     ]
    }
   ],
   "source": [
    "p0.printSchema()"
   ]
  },
  {
   "cell_type": "code",
   "execution_count": 9,
   "id": "52067314-c604-4e29-a91d-06663e7ca1a1",
   "metadata": {},
   "outputs": [
    {
     "name": "stderr",
     "output_type": "stream",
     "text": [
      "                                                                                \r"
     ]
    },
    {
     "data": {
      "text/plain": [
       "10000"
      ]
     },
     "execution_count": 9,
     "metadata": {},
     "output_type": "execute_result"
    }
   ],
   "source": [
    "p0.count()"
   ]
  },
  {
   "cell_type": "code",
   "execution_count": 10,
   "id": "bd3b9b5e-9fad-4762-94ef-f861045749f1",
   "metadata": {},
   "outputs": [
    {
     "name": "stderr",
     "output_type": "stream",
     "text": [
      "                                                                                \r"
     ]
    }
   ],
   "source": [
    "# Similairly load only first file of 'mobile_clickstream'\n",
    "c0 = spark.read.csv(f'file://{pwd}/generated-data/mobile_app_clickstream/mobile_app_clickstream_0.csv.gz', header=True, inferSchema=True)"
   ]
  },
  {
   "cell_type": "code",
   "execution_count": 11,
   "id": "b599d544-5420-42f9-95b0-6f4c38227998",
   "metadata": {},
   "outputs": [
    {
     "name": "stdout",
     "output_type": "stream",
     "text": [
      "+--------------------+--------------------+--------------------+-------------------+--------------------+\n",
      "|              userId|             eventId|           eventType|          eventTime|          attributes|\n",
      "+--------------------+--------------------+--------------------+-------------------+--------------------+\n",
      "|f6e8252f-b5cc-48a...|3fce7a72-6aa5-4a8...|            app_open|2020-12-13 15:37:31|{'campaign_id': 3...|\n",
      "|f6e8252f-b5cc-48a...|b49802f8-62a6-424...|      search_product|2020-12-13 15:45:34|                null|\n",
      "|f6e8252f-b5cc-48a...|08b51fee-d62d-4b2...|view_product_details|2020-12-13 15:48:07|                null|\n",
      "|f6e8252f-b5cc-48a...|bdde7a28-c32d-477...|            purchase|2020-12-13 16:00:20|{'purchase_id': '...|\n",
      "|f6e8252f-b5cc-48a...|be7741d8-56c9-47c...|           app_close|2020-12-13 16:04:20|                null|\n",
      "+--------------------+--------------------+--------------------+-------------------+--------------------+\n",
      "only showing top 5 rows\n",
      "\n"
     ]
    }
   ],
   "source": [
    "c0.show(5)"
   ]
  },
  {
   "cell_type": "code",
   "execution_count": 12,
   "id": "a3aba034-e738-488e-a040-d5a58f6d4c71",
   "metadata": {},
   "outputs": [
    {
     "name": "stdout",
     "output_type": "stream",
     "text": [
      "root\n",
      " |-- userId: string (nullable = true)\n",
      " |-- eventId: string (nullable = true)\n",
      " |-- eventType: string (nullable = true)\n",
      " |-- eventTime: string (nullable = true)\n",
      " |-- attributes: string (nullable = true)\n",
      "\n"
     ]
    }
   ],
   "source": [
    "c0.printSchema()"
   ]
  },
  {
   "cell_type": "code",
   "execution_count": 13,
   "id": "66430006-6775-4e0f-9539-9f0cec97ac35",
   "metadata": {},
   "outputs": [
    {
     "data": {
      "text/plain": [
       "50000"
      ]
     },
     "execution_count": 13,
     "metadata": {},
     "output_type": "execute_result"
    }
   ],
   "source": [
    "c0.count()"
   ]
  },
  {
   "cell_type": "markdown",
   "id": "16a640e5-79db-4967-9d9f-b06b33bcde83",
   "metadata": {},
   "source": [
    "### 3. Load all data"
   ]
  },
  {
   "cell_type": "code",
   "execution_count": 14,
   "id": "183ab487-c5a2-40af-87fc-2647f7d52bf4",
   "metadata": {},
   "outputs": [],
   "source": [
    "from pyspark.sql.dataframe import DataFrame"
   ]
  },
  {
   "cell_type": "code",
   "execution_count": 15,
   "id": "cc06fccc-98dc-4e84-9d83-ea1afd545e73",
   "metadata": {},
   "outputs": [],
   "source": [
    "user_purchases_df : DataFrame = None\n",
    "for i in range(50): \n",
    "    file = f'file://{pwd}/generated-data/user_purchases/user_purchases_{i}.csv.gz'\n",
    "    batch = spark.read.csv(file, header=True, inferSchema=True)\n",
    "    if user_purchases_df == None:\n",
    "        user_purchases_df = batch\n",
    "    else:\n",
    "        user_purchases_df = user_purchases_df.union(batch) \n",
    "        "
   ]
  },
  {
   "cell_type": "code",
   "execution_count": 16,
   "id": "ace1f4c4-f2ab-4483-8811-094a8985f030",
   "metadata": {},
   "outputs": [
    {
     "data": {
      "text/plain": [
       "500000"
      ]
     },
     "execution_count": 16,
     "metadata": {},
     "output_type": "execute_result"
    }
   ],
   "source": [
    "user_purchases_df.count()"
   ]
  },
  {
   "cell_type": "code",
   "execution_count": 17,
   "id": "620f29ed-81ed-45cb-973b-c422a25a7fd1",
   "metadata": {},
   "outputs": [],
   "source": [
    "clickstream_df : DataFrame = None\n",
    "for i in range(50): \n",
    "    file = f'file://{pwd}/generated-data/mobile_app_clickstream/mobile_app_clickstream_{i}.csv.gz'\n",
    "    batch = spark.read.csv(file, header=True, inferSchema=True)\n",
    "    if clickstream_df == None:\n",
    "        clickstream_df = batch\n",
    "    else:\n",
    "        clickstream_df = clickstream_df.union(batch) \n",
    "        "
   ]
  },
  {
   "cell_type": "code",
   "execution_count": 18,
   "id": "8ef59c80-338b-4ab1-bbd1-5dbc9ba0287f",
   "metadata": {},
   "outputs": [
    {
     "name": "stderr",
     "output_type": "stream",
     "text": [
      "                                                                                \r"
     ]
    },
    {
     "data": {
      "text/plain": [
       "2500000"
      ]
     },
     "execution_count": 18,
     "metadata": {},
     "output_type": "execute_result"
    }
   ],
   "source": [
    "clickstream_df.count()"
   ]
  },
  {
   "cell_type": "markdown",
   "id": "0f9dbadb-f6d2-40ff-80eb-f0484b39eab6",
   "metadata": {},
   "source": [
    "### 4. Schema improvements"
   ]
  },
  {
   "cell_type": "code",
   "execution_count": 19,
   "id": "0e735bc2-be79-430e-93a8-d1d47a095ce4",
   "metadata": {},
   "outputs": [
    {
     "name": "stdout",
     "output_type": "stream",
     "text": [
      "root\n",
      " |-- purchaseId: string (nullable = true)\n",
      " |-- purchaseTime: timestamp (nullable = true)\n",
      " |-- billingCost: string (nullable = true)\n",
      " |-- isConfirmed: boolean (nullable = true)\n",
      "\n"
     ]
    }
   ],
   "source": [
    "user_purchases_df = user_purchases_df.withColumn('purchaseTime', user_purchases_df['purchaseTime'].cast(TimestampType()))\n",
    "user_purchases_df.printSchema()      "
   ]
  },
  {
   "cell_type": "code",
   "execution_count": 20,
   "id": "bdaf6d83-8481-4440-8daa-0943561ff5c5",
   "metadata": {},
   "outputs": [
    {
     "name": "stderr",
     "output_type": "stream",
     "text": [
      "                                                                                \r"
     ]
    },
    {
     "data": {
      "text/plain": [
       "0"
      ]
     },
     "execution_count": 20,
     "metadata": {},
     "output_type": "execute_result"
    }
   ],
   "source": [
    "# just to check if there are missing values \n",
    "user_purchases_df.select('*').where((isnan(col('billingCost'))) | (col('billingCost').isNull()) ).count() "
   ]
  },
  {
   "cell_type": "code",
   "execution_count": 21,
   "id": "983f4cef-4a7f-47cd-80dc-1dfd5d467ab5",
   "metadata": {},
   "outputs": [
    {
     "name": "stdout",
     "output_type": "stream",
     "text": [
      "+----------+------------+-----------+-----------+\n",
      "|purchaseId|purchaseTime|billingCost|isConfirmed|\n",
      "+----------+------------+-----------+-----------+\n",
      "+----------+------------+-----------+-----------+\n",
      "\n"
     ]
    }
   ],
   "source": [
    "user_purchases_df.select('*').where((isnan(col('billingCost'))) | (col('billingCost').isNull()) ).show()"
   ]
  },
  {
   "cell_type": "code",
   "execution_count": 22,
   "id": "fe1c16df-58d7-4c77-9b08-b345337cc98c",
   "metadata": {},
   "outputs": [],
   "source": [
    "# sometimes this results in a single record but usually the output is empty ??!!"
   ]
  },
  {
   "cell_type": "code",
   "execution_count": 23,
   "id": "b0015bcd-1a66-4ca2-9b04-098016a3cd70",
   "metadata": {},
   "outputs": [
    {
     "name": "stdout",
     "output_type": "stream",
     "text": [
      "root\n",
      " |-- purchaseId: string (nullable = true)\n",
      " |-- purchaseTime: timestamp (nullable = true)\n",
      " |-- billingCost: double (nullable = true)\n",
      " |-- isConfirmed: boolean (nullable = true)\n",
      "\n"
     ]
    }
   ],
   "source": [
    "user_purchases_df = user_purchases_df.withColumn('billingCost', user_purchases_df['billingCost'].cast(DoubleType()))\n",
    "user_purchases_df.printSchema()    "
   ]
  },
  {
   "cell_type": "code",
   "execution_count": 24,
   "id": "4b8b0964-41e3-4e6b-aad5-46d4429da483",
   "metadata": {},
   "outputs": [
    {
     "name": "stdout",
     "output_type": "stream",
     "text": [
      "+--------------------+-------------------+-----------+-----------+\n",
      "|          purchaseId|       purchaseTime|billingCost|isConfirmed|\n",
      "+--------------------+-------------------+-----------+-----------+\n",
      "|e3e70682-c209-4ca...|2020-12-13 16:00:20|     845.98|      false|\n",
      "|82e2e662-f728-44f...|2020-12-26 08:35:13|     760.37|      false|\n",
      "|d4713d60-c8a7-463...|2020-11-20 21:32:23|     426.37|       true|\n",
      "|9558867f-5ba9-4fa...|2020-11-04 10:01:00|     266.33|      false|\n",
      "|23c6612f-4826-467...|2020-10-11 09:56:36|     516.16|      false|\n",
      "+--------------------+-------------------+-----------+-----------+\n",
      "only showing top 5 rows\n",
      "\n"
     ]
    }
   ],
   "source": [
    "user_purchases_df.show(5)"
   ]
  },
  {
   "cell_type": "code",
   "execution_count": 25,
   "id": "157b266a-5e70-4c85-9f7b-a492e0df1142",
   "metadata": {},
   "outputs": [
    {
     "name": "stdout",
     "output_type": "stream",
     "text": [
      "root\n",
      " |-- userId: string (nullable = true)\n",
      " |-- eventId: string (nullable = true)\n",
      " |-- eventType: string (nullable = true)\n",
      " |-- eventTime: timestamp (nullable = true)\n",
      " |-- attributes: string (nullable = true)\n",
      "\n"
     ]
    }
   ],
   "source": [
    "clickstream_df = clickstream_df.withColumn('eventTime', clickstream_df['eventTime'].cast(TimestampType()))\n",
    "clickstream_df.printSchema() "
   ]
  },
  {
   "cell_type": "markdown",
   "id": "954f6a05-8e9a-4691-b83e-beacc8da52c7",
   "metadata": {},
   "source": [
    "### 5. Convert 'attributes' column from String into Map"
   ]
  },
  {
   "cell_type": "code",
   "execution_count": 26,
   "id": "88bdd86e-aad1-4e5d-8298-404f49098d1c",
   "metadata": {},
   "outputs": [],
   "source": [
    "import json"
   ]
  },
  {
   "cell_type": "code",
   "execution_count": 27,
   "id": "dddecee9-4818-4f5c-8f52-1bc254906e10",
   "metadata": {},
   "outputs": [],
   "source": [
    "def convert_to_map(input : str) -> dict :\n",
    "    # print(f\">>>F0={input}\")\n",
    "    if (input != None):\n",
    "        input = input.replace(\"'\",'\"')\n",
    "        return json.loads(input)\n",
    "    else:\n",
    "        # print(f\">>>F3={input}\")\n",
    "        return input \n",
    " \n",
    "convert_to_map_udf = udf(lambda x:convert_to_map(x), MapType(StringType(), StringType()))"
   ]
  },
  {
   "cell_type": "code",
   "execution_count": 28,
   "id": "4002e9dd-a76b-41d7-9ef9-6c29ed99a616",
   "metadata": {},
   "outputs": [
    {
     "name": "stdout",
     "output_type": "stream",
     "text": [
      "+--------------------+--------------------+--------------------+-------------------+--------------------+\n",
      "|              userId|             eventId|           eventType|          eventTime|          attributes|\n",
      "+--------------------+--------------------+--------------------+-------------------+--------------------+\n",
      "|f6e8252f-b5cc-48a...|3fce7a72-6aa5-4a8...|            app_open|2020-12-13 15:37:31|{'campaign_id': 3...|\n",
      "|f6e8252f-b5cc-48a...|b49802f8-62a6-424...|      search_product|2020-12-13 15:45:34|                null|\n",
      "|f6e8252f-b5cc-48a...|08b51fee-d62d-4b2...|view_product_details|2020-12-13 15:48:07|                null|\n",
      "|f6e8252f-b5cc-48a...|bdde7a28-c32d-477...|            purchase|2020-12-13 16:00:20|{'purchase_id': '...|\n",
      "|f6e8252f-b5cc-48a...|be7741d8-56c9-47c...|           app_close|2020-12-13 16:04:20|                null|\n",
      "+--------------------+--------------------+--------------------+-------------------+--------------------+\n",
      "only showing top 5 rows\n",
      "\n"
     ]
    }
   ],
   "source": [
    "c0.show(5)"
   ]
  },
  {
   "cell_type": "code",
   "execution_count": 29,
   "id": "d0683941-c25f-4532-b632-8e91a6603240",
   "metadata": {},
   "outputs": [
    {
     "name": "stdout",
     "output_type": "stream",
     "text": [
      "root\n",
      " |-- userId: string (nullable = true)\n",
      " |-- eventId: string (nullable = true)\n",
      " |-- eventType: string (nullable = true)\n",
      " |-- eventTime: string (nullable = true)\n",
      " |-- attributes: map (nullable = true)\n",
      " |    |-- key: string\n",
      " |    |-- value: string (valueContainsNull = true)\n",
      "\n"
     ]
    }
   ],
   "source": [
    "c0_map = c0.withColumn('attributes', convert_to_map_udf(col('attributes')))\n",
    "c0_map.printSchema()"
   ]
  },
  {
   "cell_type": "code",
   "execution_count": 30,
   "id": "415c2a43-e671-425b-98a5-3246d27e1714",
   "metadata": {},
   "outputs": [
    {
     "name": "stdout",
     "output_type": "stream",
     "text": [
      "+--------------------+--------------------+--------------------+-------------------+--------------------+\n",
      "|              userId|             eventId|           eventType|          eventTime|          attributes|\n",
      "+--------------------+--------------------+--------------------+-------------------+--------------------+\n",
      "|f6e8252f-b5cc-48a...|3fce7a72-6aa5-4a8...|            app_open|2020-12-13 15:37:31|{channel_id -> Fa...|\n",
      "|f6e8252f-b5cc-48a...|b49802f8-62a6-424...|      search_product|2020-12-13 15:45:34|                null|\n",
      "|f6e8252f-b5cc-48a...|08b51fee-d62d-4b2...|view_product_details|2020-12-13 15:48:07|                null|\n",
      "|f6e8252f-b5cc-48a...|bdde7a28-c32d-477...|            purchase|2020-12-13 16:00:20|{purchase_id -> e...|\n",
      "|f6e8252f-b5cc-48a...|be7741d8-56c9-47c...|           app_close|2020-12-13 16:04:20|                null|\n",
      "+--------------------+--------------------+--------------------+-------------------+--------------------+\n",
      "only showing top 5 rows\n",
      "\n"
     ]
    }
   ],
   "source": [
    "c0_map.show(5)"
   ]
  },
  {
   "cell_type": "code",
   "execution_count": 31,
   "id": "356dad7d-b68b-4520-ab56-d3391adeaca9",
   "metadata": {},
   "outputs": [
    {
     "name": "stdout",
     "output_type": "stream",
     "text": [
      "root\n",
      " |-- userId: string (nullable = true)\n",
      " |-- eventId: string (nullable = true)\n",
      " |-- eventType: string (nullable = true)\n",
      " |-- eventTime: timestamp (nullable = true)\n",
      " |-- attributes: map (nullable = true)\n",
      " |    |-- key: string\n",
      " |    |-- value: string (valueContainsNull = true)\n",
      "\n"
     ]
    }
   ],
   "source": [
    "clickstream_map_df = clickstream_df.withColumn('attributes', convert_to_map_udf(col('attributes')))\n",
    "clickstream_map_df.printSchema()"
   ]
  },
  {
   "cell_type": "code",
   "execution_count": 32,
   "id": "4ed9c28c-5f4d-46d1-a660-b611786e52b6",
   "metadata": {},
   "outputs": [
    {
     "name": "stdout",
     "output_type": "stream",
     "text": [
      "+--------------------+--------------------+--------------------+-------------------+--------------------+\n",
      "|              userId|             eventId|           eventType|          eventTime|          attributes|\n",
      "+--------------------+--------------------+--------------------+-------------------+--------------------+\n",
      "|f6e8252f-b5cc-48a...|3fce7a72-6aa5-4a8...|            app_open|2020-12-13 15:37:31|{channel_id -> Fa...|\n",
      "|f6e8252f-b5cc-48a...|b49802f8-62a6-424...|      search_product|2020-12-13 15:45:34|                null|\n",
      "|f6e8252f-b5cc-48a...|08b51fee-d62d-4b2...|view_product_details|2020-12-13 15:48:07|                null|\n",
      "|f6e8252f-b5cc-48a...|bdde7a28-c32d-477...|            purchase|2020-12-13 16:00:20|{purchase_id -> e...|\n",
      "|f6e8252f-b5cc-48a...|be7741d8-56c9-47c...|           app_close|2020-12-13 16:04:20|                null|\n",
      "+--------------------+--------------------+--------------------+-------------------+--------------------+\n",
      "only showing top 5 rows\n",
      "\n"
     ]
    }
   ],
   "source": [
    "clickstream_map_df.show(5)"
   ]
  },
  {
   "cell_type": "markdown",
   "id": "188d1eeb-743d-4c32-938e-b436a092bd06",
   "metadata": {},
   "source": [
    "#### Optimizing the dataframes for further processing"
   ]
  },
  {
   "cell_type": "code",
   "execution_count": 33,
   "id": "96a817a5-59cf-48fd-8bf6-d94559f65d4e",
   "metadata": {},
   "outputs": [
    {
     "data": {
      "text/plain": [
       "50"
      ]
     },
     "execution_count": 33,
     "metadata": {},
     "output_type": "execute_result"
    }
   ],
   "source": [
    "clickstream_map_df.rdd.getNumPartitions()"
   ]
  },
  {
   "cell_type": "code",
   "execution_count": 34,
   "id": "b254e391-a00c-4f35-a634-49f64dfe5434",
   "metadata": {},
   "outputs": [],
   "source": [
    "clickstream_repartitioned = clickstream_map_df.repartition(64, col('userId'))"
   ]
  },
  {
   "cell_type": "code",
   "execution_count": 35,
   "id": "a4a34c43-ae0a-4bbc-8ff6-9361779d65ce",
   "metadata": {},
   "outputs": [
    {
     "name": "stderr",
     "output_type": "stream",
     "text": [
      "[Stage 229:===================================================>   (47 + 3) / 50]\r"
     ]
    },
    {
     "data": {
      "text/plain": [
       "64"
      ]
     },
     "execution_count": 35,
     "metadata": {},
     "output_type": "execute_result"
    }
   ],
   "source": [
    "clickstream_repartitioned.rdd.getNumPartitions()"
   ]
  },
  {
   "cell_type": "code",
   "execution_count": null,
   "id": "56c22c26-8aee-40be-92af-56dc98615bb2",
   "metadata": {},
   "outputs": [],
   "source": []
  },
  {
   "cell_type": "markdown",
   "id": "4c6146e8-3c78-4e93-a83f-8ba49b4bfd56",
   "metadata": {},
   "source": [
    "### 6. Identify events that belong to the same session"
   ]
  },
  {
   "cell_type": "code",
   "execution_count": 36,
   "id": "345cfb32-caea-4c47-be69-c300687740eb",
   "metadata": {},
   "outputs": [
    {
     "name": "stderr",
     "output_type": "stream",
     "text": [
      "[Stage 230:====================================================>  (48 + 2) / 50]\r"
     ]
    },
    {
     "name": "stdout",
     "output_type": "stream",
     "text": [
      "+--------------------+--------------------+--------------------+-------------------+--------------------+\n",
      "|              userId|             eventId|           eventType|          eventTime|          attributes|\n",
      "+--------------------+--------------------+--------------------+-------------------+--------------------+\n",
      "|000ea2e3-ae19-4f8...|34e0b429-b0d7-42a...|            app_open|2020-12-18 17:51:59|{channel_id -> Go...|\n",
      "|000ea2e3-ae19-4f8...|a27ee032-d1bd-453...|      search_product|2020-12-18 18:00:33|                null|\n",
      "|000ea2e3-ae19-4f8...|14dc3cd7-bc5c-404...|view_product_details|2020-12-18 18:03:28|                null|\n",
      "|000ea2e3-ae19-4f8...|7339a8e5-392c-486...|            purchase|2020-12-18 18:08:52|{purchase_id -> 3...|\n",
      "|000ea2e3-ae19-4f8...|2a1cb948-1965-4b9...|           app_close|2020-12-18 18:10:52|                null|\n",
      "|000ee35f-5776-401...|7713dc7b-3e6a-453...|            app_open|2020-11-17 23:42:32|{channel_id -> Go...|\n",
      "|000ee35f-5776-401...|f668579f-e2b5-4fc...|      search_product|2020-11-17 23:48:01|                null|\n",
      "|000ee35f-5776-401...|0e6c99db-3060-475...|view_product_details|2020-11-17 23:49:04|                null|\n",
      "|000ee35f-5776-401...|6c3c0d44-4c5e-418...|            purchase|2020-11-17 23:56:45|{purchase_id -> 8...|\n",
      "|000ee35f-5776-401...|031b706a-efe3-41c...|           app_close|2020-11-18 00:00:45|                null|\n",
      "+--------------------+--------------------+--------------------+-------------------+--------------------+\n",
      "only showing top 10 rows\n",
      "\n"
     ]
    },
    {
     "name": "stderr",
     "output_type": "stream",
     "text": [
      "                                                                                \r"
     ]
    }
   ],
   "source": [
    "clickstream_repartitioned = clickstream_repartitioned.sortWithinPartitions(['userId', 'eventTime'], ascending=True) \n",
    "clickstream_repartitioned.show(10)"
   ]
  },
  {
   "cell_type": "code",
   "execution_count": 37,
   "id": "7354e928-d50d-4cc6-8031-4ef92997d57a",
   "metadata": {},
   "outputs": [
    {
     "name": "stderr",
     "output_type": "stream",
     "text": [
      "[Stage 233:===================================================>   (47 + 3) / 50]\r"
     ]
    },
    {
     "name": "stdout",
     "output_type": "stream",
     "text": [
      "+--------------------+--------------------+--------------------+-------------------+--------------------+-----------+\n",
      "|              userId|             eventId|           eventType|          eventTime|          attributes|partitionId|\n",
      "+--------------------+--------------------+--------------------+-------------------+--------------------+-----------+\n",
      "|000ea2e3-ae19-4f8...|34e0b429-b0d7-42a...|            app_open|2020-12-18 17:51:59|{channel_id -> Go...|          0|\n",
      "|000ea2e3-ae19-4f8...|a27ee032-d1bd-453...|      search_product|2020-12-18 18:00:33|                null|          0|\n",
      "|000ea2e3-ae19-4f8...|14dc3cd7-bc5c-404...|view_product_details|2020-12-18 18:03:28|                null|          0|\n",
      "|000ea2e3-ae19-4f8...|7339a8e5-392c-486...|            purchase|2020-12-18 18:08:52|{purchase_id -> 3...|          0|\n",
      "|000ea2e3-ae19-4f8...|2a1cb948-1965-4b9...|           app_close|2020-12-18 18:10:52|                null|          0|\n",
      "|000ee35f-5776-401...|7713dc7b-3e6a-453...|            app_open|2020-11-17 23:42:32|{channel_id -> Go...|          0|\n",
      "|000ee35f-5776-401...|f668579f-e2b5-4fc...|      search_product|2020-11-17 23:48:01|                null|          0|\n",
      "|000ee35f-5776-401...|0e6c99db-3060-475...|view_product_details|2020-11-17 23:49:04|                null|          0|\n",
      "|000ee35f-5776-401...|6c3c0d44-4c5e-418...|            purchase|2020-11-17 23:56:45|{purchase_id -> 8...|          0|\n",
      "|000ee35f-5776-401...|031b706a-efe3-41c...|           app_close|2020-11-18 00:00:45|                null|          0|\n",
      "+--------------------+--------------------+--------------------+-------------------+--------------------+-----------+\n",
      "only showing top 10 rows\n",
      "\n"
     ]
    },
    {
     "name": "stderr",
     "output_type": "stream",
     "text": [
      "                                                                                \r"
     ]
    }
   ],
   "source": [
    "from pyspark.sql.functions import spark_partition_id\n",
    "clickstream_repartitioned = clickstream_repartitioned.withColumn('partitionId', spark_partition_id())\n",
    "clickstream_repartitioned.show(10)"
   ]
  },
  {
   "cell_type": "code",
   "execution_count": 38,
   "id": "94c41e28-f80a-4c85-ae1e-64509e0d4e3f",
   "metadata": {},
   "outputs": [
    {
     "name": "stderr",
     "output_type": "stream",
     "text": [
      "[Stage 238:=============================================>         (53 + 8) / 64]\r"
     ]
    },
    {
     "name": "stdout",
     "output_type": "stream",
     "text": [
      "+-----------+-------+\n",
      "|partitionId|records|\n",
      "+-----------+-------+\n",
      "|          0|  38835|\n",
      "|          1|  38925|\n",
      "|          2|  38950|\n",
      "|          3|  39260|\n",
      "|          4|  39065|\n",
      "|          5|  39525|\n",
      "|          6|  38455|\n",
      "|          7|  40080|\n",
      "|          8|  38195|\n",
      "|          9|  39820|\n",
      "|         10|  38175|\n",
      "|         11|  39530|\n",
      "|         12|  39040|\n",
      "|         13|  39625|\n",
      "|         14|  38295|\n",
      "|         15|  39090|\n",
      "|         16|  38425|\n",
      "|         17|  39500|\n",
      "|         18|  39400|\n",
      "|         19|  38985|\n",
      "+-----------+-------+\n",
      "only showing top 20 rows\n",
      "\n"
     ]
    },
    {
     "name": "stderr",
     "output_type": "stream",
     "text": [
      "                                                                                \r"
     ]
    }
   ],
   "source": [
    "partition_summary = clickstream_repartitioned.groupby('partitionId').agg(count('*').alias('records')).orderBy('partitionId')\n",
    "partition_summary.show()"
   ]
  },
  {
   "cell_type": "code",
   "execution_count": 39,
   "id": "b87a0bac-b9d6-45b9-90b0-70eaf8d07e3c",
   "metadata": {},
   "outputs": [
    {
     "name": "stderr",
     "output_type": "stream",
     "text": [
      "[Stage 242:=========================================>             (38 + 8) / 50]\r"
     ]
    },
    {
     "name": "stdout",
     "output_type": "stream",
     "text": [
      "+--------------------+------+\n",
      "|           eventType|events|\n",
      "+--------------------+------+\n",
      "|view_product_details|500000|\n",
      "|            app_open|500000|\n",
      "|            purchase|500000|\n",
      "|           app_close|500000|\n",
      "|      search_product|500000|\n",
      "+--------------------+------+\n",
      "\n"
     ]
    },
    {
     "name": "stderr",
     "output_type": "stream",
     "text": [
      "                                                                                \r"
     ]
    }
   ],
   "source": [
    "# count different events\n",
    "event_summary = clickstream_repartitioned.groupby('eventType').agg(count('*').alias('events')).orderBy('events')\n",
    "event_summary.show()"
   ]
  },
  {
   "cell_type": "code",
   "execution_count": null,
   "id": "db002807-4513-4bd5-804d-f315aa210a45",
   "metadata": {},
   "outputs": [],
   "source": []
  },
  {
   "cell_type": "code",
   "execution_count": 41,
   "id": "8dc25c2d-837c-4396-8c75-c897bb48ccf6",
   "metadata": {},
   "outputs": [],
   "source": [
    "last_session = 0\n",
    "last_user_id = \"\"\n",
    "# this method assumes that record are ordered by [userId, eventTime], and each app_open event is followed by app_close.\n",
    "def get_session(user_id : str, event_type: str, partition_id : int) -> str :\n",
    "    global last_session\n",
    "    global last_user_id\n",
    "    \n",
    "    if event_type == 'app_open' : # starts new session\n",
    "        last_session = last_session + 1\n",
    " \n",
    "    return str(partition_id) + '_' + str(last_session)"
   ]
  },
  {
   "cell_type": "code",
   "execution_count": 42,
   "id": "d78fbd97-b1c1-411c-9ba0-66dbe5e5fb50",
   "metadata": {},
   "outputs": [],
   "source": [
    "get_session_udf = udf(lambda user, event_type, partition_id: get_session(user, event_type, partition_id), StringType())"
   ]
  },
  {
   "cell_type": "code",
   "execution_count": 44,
   "id": "9084b7aa-c316-4e5d-9fb8-0499d41fc715",
   "metadata": {},
   "outputs": [
    {
     "name": "stdout",
     "output_type": "stream",
     "text": [
      "root\n",
      " |-- userId: string (nullable = true)\n",
      " |-- eventId: string (nullable = true)\n",
      " |-- eventType: string (nullable = true)\n",
      " |-- eventTime: timestamp (nullable = true)\n",
      " |-- attributes: map (nullable = true)\n",
      " |    |-- key: string\n",
      " |    |-- value: string (valueContainsNull = true)\n",
      " |-- partitionId: integer (nullable = false)\n",
      " |-- sessionId: string (nullable = true)\n",
      "\n"
     ]
    }
   ],
   "source": [
    "clickstream_session_df = clickstream_repartitioned.withColumn('sessionId', get_session_udf(col('userId'), col('eventType'), col('partitionId')))\n",
    "clickstream_session_df.printSchema()"
   ]
  },
  {
   "cell_type": "code",
   "execution_count": 45,
   "id": "0c970cd3-2cb5-4a9a-aa4e-7084e1f196ce",
   "metadata": {},
   "outputs": [
    {
     "name": "stderr",
     "output_type": "stream",
     "text": [
      "[Stage 248:================================================>      (44 + 6) / 50]\r"
     ]
    },
    {
     "name": "stdout",
     "output_type": "stream",
     "text": [
      "+--------------------+--------------------+--------------------+-------------------+--------------------+-----------+---------+\n",
      "|              userId|             eventId|           eventType|          eventTime|          attributes|partitionId|sessionId|\n",
      "+--------------------+--------------------+--------------------+-------------------+--------------------+-----------+---------+\n",
      "|000ea2e3-ae19-4f8...|34e0b429-b0d7-42a...|            app_open|2020-12-18 17:51:59|{channel_id -> Go...|          0|      0_1|\n",
      "|000ea2e3-ae19-4f8...|a27ee032-d1bd-453...|      search_product|2020-12-18 18:00:33|                null|          0|      0_1|\n",
      "|000ea2e3-ae19-4f8...|14dc3cd7-bc5c-404...|view_product_details|2020-12-18 18:03:28|                null|          0|      0_1|\n",
      "|000ea2e3-ae19-4f8...|7339a8e5-392c-486...|            purchase|2020-12-18 18:08:52|{purchase_id -> 3...|          0|      0_1|\n",
      "|000ea2e3-ae19-4f8...|2a1cb948-1965-4b9...|           app_close|2020-12-18 18:10:52|                null|          0|      0_1|\n",
      "|000ee35f-5776-401...|7713dc7b-3e6a-453...|            app_open|2020-11-17 23:42:32|{channel_id -> Go...|          0|      0_2|\n",
      "|000ee35f-5776-401...|f668579f-e2b5-4fc...|      search_product|2020-11-17 23:48:01|                null|          0|      0_2|\n",
      "|000ee35f-5776-401...|0e6c99db-3060-475...|view_product_details|2020-11-17 23:49:04|                null|          0|      0_2|\n",
      "|000ee35f-5776-401...|6c3c0d44-4c5e-418...|            purchase|2020-11-17 23:56:45|{purchase_id -> 8...|          0|      0_2|\n",
      "|000ee35f-5776-401...|031b706a-efe3-41c...|           app_close|2020-11-18 00:00:45|                null|          0|      0_2|\n",
      "+--------------------+--------------------+--------------------+-------------------+--------------------+-----------+---------+\n",
      "only showing top 10 rows\n",
      "\n"
     ]
    },
    {
     "name": "stderr",
     "output_type": "stream",
     "text": [
      "                                                                                \r"
     ]
    }
   ],
   "source": [
    "clickstream_session_df.show(10)"
   ]
  },
  {
   "cell_type": "code",
   "execution_count": 46,
   "id": "941a3216-bad6-4ba6-a934-9dfacdeca73e",
   "metadata": {},
   "outputs": [],
   "source": [
    "clickstream_session_df = clickstream_session_df.cache()"
   ]
  },
  {
   "cell_type": "markdown",
   "id": "c29dce16-cb41-446a-83cb-f7e8cc11df4b",
   "metadata": {},
   "source": [
    "### 7. Join 'app_open' events with 'purchase' events"
   ]
  },
  {
   "cell_type": "code",
   "execution_count": 47,
   "id": "10344308-b252-4d73-9fac-2a72fef06c4c",
   "metadata": {},
   "outputs": [
    {
     "name": "stderr",
     "output_type": "stream",
     "text": [
      "[Stage 253:=============================================>         (53 + 8) / 64]\r"
     ]
    },
    {
     "name": "stdout",
     "output_type": "stream",
     "text": [
      "+--------------------+--------------------+-------------------+-----------+---------+-----------------+--------------------+--------------------+\n",
      "|              userId|             eventId|          eventTime|partitionId|sessionId|purchaseEventType|  purchaseAttributes|      openAttributes|\n",
      "+--------------------+--------------------+-------------------+-----------+---------+-----------------+--------------------+--------------------+\n",
      "|0000f82d-9bbb-46d...|41c3d6fb-ebb8-449...|2020-11-11 08:49:36|         43|     43_1|         purchase|{purchase_id -> 4...|{channel_id -> Fa...|\n",
      "|0001fca6-a926-468...|2dc6c0d8-0293-489...|2020-09-28 04:04:57|         13|     13_1|         purchase|{purchase_id -> a...|{channel_id -> Tw...|\n",
      "|00047728-5b35-46d...|1bb6ddd1-c50c-4dd...|2020-11-03 07:46:25|         42|     42_1|         purchase|{purchase_id -> a...|{channel_id -> Go...|\n",
      "|00058134-5c08-4e4...|94f72f17-19c2-473...|2020-09-30 21:12:22|         39|     39_1|         purchase|{purchase_id -> 5...|{channel_id -> Go...|\n",
      "|0006d62d-2a59-4aa...|4f8b6be2-098b-44a...|2020-10-22 04:06:34|          8|      8_2|         purchase|{purchase_id -> d...|{channel_id -> VK...|\n",
      "|0008466d-ccae-484...|9f493d79-2502-421...|2020-12-13 20:02:53|         51|     51_1|         purchase|{purchase_id -> 8...|{channel_id -> Go...|\n",
      "|0009241d-96ae-49c...|7193f25e-88c3-41c...|2020-12-25 23:01:52|          8|      8_3|         purchase|{purchase_id -> b...|{channel_id -> Ya...|\n",
      "|000e6f29-8e57-40d...|17841a78-8eda-415...|2020-10-14 15:40:01|         44|     44_2|         purchase|{purchase_id -> 5...|{channel_id -> Fa...|\n",
      "|000e7f47-b192-490...|58250454-6c9d-4dd...|2020-10-16 05:41:32|          9|      9_1|         purchase|{purchase_id -> e...|{channel_id -> Ya...|\n",
      "|000ee087-0cfd-41f...|44941462-9bb4-4ac...|2020-11-06 01:34:08|         45|     45_3|         purchase|{purchase_id -> 5...|{channel_id -> Tw...|\n",
      "|000f8c7b-0db9-4f7...|530096b8-5e8a-47d...|2020-12-01 13:55:37|         11|     11_3|         purchase|{purchase_id -> e...|{channel_id -> Go...|\n",
      "|00100a8a-1ae9-473...|e610f696-52f5-4fb...|2020-10-11 16:35:13|         24|     24_3|         purchase|{purchase_id -> f...|{channel_id -> Fa...|\n",
      "|00104491-8da2-483...|daa88a7e-ba39-4cb...|2020-11-07 05:18:02|         12|     12_5|         purchase|{purchase_id -> 1...|{channel_id -> Ya...|\n",
      "|00112c4d-099b-470...|5b3dfc1e-a1e5-4d0...|2020-10-11 22:30:27|         42|     42_2|         purchase|{purchase_id -> 3...|{channel_id -> Fa...|\n",
      "|0011ea98-d038-4a8...|2b915d08-72d6-48a...|2020-12-19 02:58:30|          2|      2_4|         purchase|{purchase_id -> c...|{channel_id -> Tw...|\n",
      "|001212fa-7662-40a...|74f91c29-2e1f-439...|2020-10-17 04:56:08|         51|     51_4|         purchase|{purchase_id -> 4...|{channel_id -> Ya...|\n",
      "|00124824-2135-431...|7b309b58-76e7-4a0...|2020-11-20 17:05:52|          2|      2_5|         purchase|{purchase_id -> 3...|{channel_id -> VK...|\n",
      "|00124924-369d-424...|52d8e89d-d667-457...|2020-11-27 08:21:40|          6|      6_2|         purchase|{purchase_id -> d...|{channel_id -> Ya...|\n",
      "|0012a3c4-c7d8-420...|5dc77a7d-a146-416...|2020-09-30 02:00:51|         29|     29_3|         purchase|{purchase_id -> 3...|{channel_id -> VK...|\n",
      "|0015654f-e885-471...|4e7ad0dd-42f6-4d0...|2020-11-08 09:51:12|         23|     23_2|         purchase|{purchase_id -> 9...|{channel_id -> Go...|\n",
      "+--------------------+--------------------+-------------------+-----------+---------+-----------------+--------------------+--------------------+\n",
      "only showing top 20 rows\n",
      "\n"
     ]
    },
    {
     "name": "stderr",
     "output_type": "stream",
     "text": [
      "                                                                                \r"
     ]
    }
   ],
   "source": [
    "purchase_session_df = clickstream_session_df.alias('purchase') \\\n",
    "    .withColumnRenamed('eventType', 'purchaseEventType') \\\n",
    "    .withColumnRenamed('attributes', 'purchaseAttributes') \\\n",
    "    .join(clickstream_session_df.alias('open')) \\\n",
    "    .withColumnRenamed('attributes', 'openAttributes') \\\n",
    "    .where( \\\n",
    "        (col('purchaseEventType') == 'purchase') & \\\n",
    "        (col('open.eventType') == 'app_open') & \\\n",
    "        (col('purchase.userId') == col('open.userId')) & \\\n",
    "        (col('purchase.sessionId') == col('open.sessionId'))) \\\n",
    "    .select('purchase.*', 'purchaseEventType', 'purchaseAttributes' ,'openAttributes') \n",
    "\n",
    "\n",
    "purchase_session_df.show()"
   ]
  },
  {
   "cell_type": "code",
   "execution_count": 48,
   "id": "f6bbc54b-fae4-4259-97f6-c3c08605e650",
   "metadata": {},
   "outputs": [
    {
     "name": "stdout",
     "output_type": "stream",
     "text": [
      "root\n",
      " |-- userId: string (nullable = true)\n",
      " |-- eventId: string (nullable = true)\n",
      " |-- eventTime: timestamp (nullable = true)\n",
      " |-- partitionId: integer (nullable = false)\n",
      " |-- sessionId: string (nullable = true)\n",
      " |-- purchaseEventType: string (nullable = true)\n",
      " |-- purchaseAttributes: map (nullable = true)\n",
      " |    |-- key: string\n",
      " |    |-- value: string (valueContainsNull = true)\n",
      " |-- openAttributes: map (nullable = true)\n",
      " |    |-- key: string\n",
      " |    |-- value: string (valueContainsNull = true)\n",
      "\n"
     ]
    }
   ],
   "source": [
    "purchase_session_df.printSchema()"
   ]
  },
  {
   "cell_type": "markdown",
   "id": "24326fc7-7acc-4b1d-88a6-ec2fc1d4a5c5",
   "metadata": {},
   "source": [
    "### 8. Extract attributes from the maps into a separate columns"
   ]
  },
  {
   "cell_type": "code",
   "execution_count": 49,
   "id": "c8586f46-84b9-4e92-8576-d586c98188d5",
   "metadata": {},
   "outputs": [
    {
     "name": "stderr",
     "output_type": "stream",
     "text": [
      "[Stage 260:===================================================>   (60 + 4) / 64]\r"
     ]
    },
    {
     "name": "stdout",
     "output_type": "stream",
     "text": [
      "+--------------------+--------------------+-------------------+-----------+---------+-----------------+--------------------+--------------------+--------------------+------------+----------+\n",
      "|              userId|             eventId|          eventTime|partitionId|sessionId|purchaseEventType|  purchaseAttributes|      openAttributes|         purchase_id|   channelId|campaignId|\n",
      "+--------------------+--------------------+-------------------+-----------+---------+-----------------+--------------------+--------------------+--------------------+------------+----------+\n",
      "|0000f82d-9bbb-46d...|41c3d6fb-ebb8-449...|2020-11-11 08:49:36|         43|     43_1|         purchase|{purchase_id -> 4...|{channel_id -> Fa...|472154b7-ccda-477...|Facebook Ads|       472|\n",
      "|0001fca6-a926-468...|2dc6c0d8-0293-489...|2020-09-28 04:04:57|         13|     13_1|         purchase|{purchase_id -> a...|{channel_id -> Tw...|a7ad667b-c199-45d...| Twitter Ads|       269|\n",
      "|00047728-5b35-46d...|1bb6ddd1-c50c-4dd...|2020-11-03 07:46:25|         42|     42_1|         purchase|{purchase_id -> a...|{channel_id -> Go...|a10a8877-b782-48e...|  Google Ads|       628|\n",
      "|00058134-5c08-4e4...|94f72f17-19c2-473...|2020-09-30 21:12:22|         39|     39_1|         purchase|{purchase_id -> 5...|{channel_id -> Go...|552f815b-1208-407...|  Google Ads|       257|\n",
      "|0006d62d-2a59-4aa...|4f8b6be2-098b-44a...|2020-10-22 04:06:34|          8|      8_2|         purchase|{purchase_id -> d...|{channel_id -> VK...|d9c6b31a-6187-446...|      VK Ads|       700|\n",
      "|0008466d-ccae-484...|9f493d79-2502-421...|2020-12-13 20:02:53|         51|     51_1|         purchase|{purchase_id -> 8...|{channel_id -> Go...|87e43501-9ca0-441...|  Google Ads|       468|\n",
      "|0009241d-96ae-49c...|7193f25e-88c3-41c...|2020-12-25 23:01:52|          8|      8_3|         purchase|{purchase_id -> b...|{channel_id -> Ya...|be102f46-b66b-4c4...|  Yandex Ads|       956|\n",
      "|000e6f29-8e57-40d...|17841a78-8eda-415...|2020-10-14 15:40:01|         44|     44_2|         purchase|{purchase_id -> 5...|{channel_id -> Fa...|5fb70657-343c-435...|Facebook Ads|       920|\n",
      "|000e7f47-b192-490...|58250454-6c9d-4dd...|2020-10-16 05:41:32|          9|      9_1|         purchase|{purchase_id -> e...|{channel_id -> Ya...|e1128a1f-d692-4d1...|  Yandex Ads|       262|\n",
      "|000ee087-0cfd-41f...|44941462-9bb4-4ac...|2020-11-06 01:34:08|         45|     45_3|         purchase|{purchase_id -> 5...|{channel_id -> Tw...|5752a060-82b6-4fb...| Twitter Ads|       456|\n",
      "|000f8c7b-0db9-4f7...|530096b8-5e8a-47d...|2020-12-01 13:55:37|         11|     11_3|         purchase|{purchase_id -> e...|{channel_id -> Go...|e11d4cd5-3606-4aa...|  Google Ads|       968|\n",
      "|00100a8a-1ae9-473...|e610f696-52f5-4fb...|2020-10-11 16:35:13|         24|     24_3|         purchase|{purchase_id -> f...|{channel_id -> Fa...|fea82fbe-a6d4-43e...|Facebook Ads|       190|\n",
      "|00104491-8da2-483...|daa88a7e-ba39-4cb...|2020-11-07 05:18:02|         12|     12_5|         purchase|{purchase_id -> 1...|{channel_id -> Ya...|12254819-07da-4ae...|  Yandex Ads|       205|\n",
      "|00112c4d-099b-470...|5b3dfc1e-a1e5-4d0...|2020-10-11 22:30:27|         42|     42_2|         purchase|{purchase_id -> 3...|{channel_id -> Fa...|3c1c8155-72b9-4ec...|Facebook Ads|       507|\n",
      "|0011ea98-d038-4a8...|2b915d08-72d6-48a...|2020-12-19 02:58:30|          2|      2_4|         purchase|{purchase_id -> c...|{channel_id -> Tw...|cc1bf7a7-97d2-43c...| Twitter Ads|       883|\n",
      "|001212fa-7662-40a...|74f91c29-2e1f-439...|2020-10-17 04:56:08|         51|     51_4|         purchase|{purchase_id -> 4...|{channel_id -> Ya...|4fe4a61f-509b-48a...|  Yandex Ads|       538|\n",
      "|00124824-2135-431...|7b309b58-76e7-4a0...|2020-11-20 17:05:52|          2|      2_5|         purchase|{purchase_id -> 3...|{channel_id -> VK...|36508a85-95e2-43b...|      VK Ads|       766|\n",
      "|00124924-369d-424...|52d8e89d-d667-457...|2020-11-27 08:21:40|          6|      6_2|         purchase|{purchase_id -> d...|{channel_id -> Ya...|d93b4581-e102-466...|  Yandex Ads|       757|\n",
      "|0012a3c4-c7d8-420...|5dc77a7d-a146-416...|2020-09-30 02:00:51|         29|     29_3|         purchase|{purchase_id -> 3...|{channel_id -> VK...|39ba7263-39fa-4bc...|      VK Ads|       191|\n",
      "|0015654f-e885-471...|4e7ad0dd-42f6-4d0...|2020-11-08 09:51:12|         23|     23_2|         purchase|{purchase_id -> 9...|{channel_id -> Go...|9dfd7bc5-6513-4ab...|  Google Ads|       333|\n",
      "+--------------------+--------------------+-------------------+-----------+---------+-----------------+--------------------+--------------------+--------------------+------------+----------+\n",
      "only showing top 20 rows\n",
      "\n"
     ]
    },
    {
     "name": "stderr",
     "output_type": "stream",
     "text": [
      "                                                                                \r"
     ]
    }
   ],
   "source": [
    "purchase_session_df = purchase_session_df.withColumn('purchase_id', purchase_session_df['purchaseAttributes']['purchase_id'])\n",
    "purchase_session_df = purchase_session_df \\\n",
    "    .withColumn('channelId', purchase_session_df['openAttributes']['channel_id']) \\\n",
    "    .withColumn('campaignId', purchase_session_df['openAttributes']['campaign_id'])\n",
    "purchase_session_df.show(10)"
   ]
  },
  {
   "cell_type": "code",
   "execution_count": 50,
   "id": "99f314e3-cd19-4bc1-b092-85f591126820",
   "metadata": {},
   "outputs": [
    {
     "name": "stderr",
     "output_type": "stream",
     "text": [
      "[Stage 267:=========================================>             (48 + 4) / 64]\r"
     ]
    },
    {
     "name": "stdout",
     "output_type": "stream",
     "text": [
      "+--------------------+--------------------+-------------------+-----------+---------+--------------------+------------+----------+\n",
      "|              userId|             eventId|          eventTime|partitionId|sessionId|         purchase_id|   channelId|campaignId|\n",
      "+--------------------+--------------------+-------------------+-----------+---------+--------------------+------------+----------+\n",
      "|0000f82d-9bbb-46d...|41c3d6fb-ebb8-449...|2020-11-11 08:49:36|         43|     43_1|472154b7-ccda-477...|Facebook Ads|       472|\n",
      "|0001fca6-a926-468...|2dc6c0d8-0293-489...|2020-09-28 04:04:57|         13|     13_1|a7ad667b-c199-45d...| Twitter Ads|       269|\n",
      "|00047728-5b35-46d...|1bb6ddd1-c50c-4dd...|2020-11-03 07:46:25|         42|     42_1|a10a8877-b782-48e...|  Google Ads|       628|\n",
      "|00058134-5c08-4e4...|94f72f17-19c2-473...|2020-09-30 21:12:22|         39|     39_1|552f815b-1208-407...|  Google Ads|       257|\n",
      "|0006d62d-2a59-4aa...|4f8b6be2-098b-44a...|2020-10-22 04:06:34|          8|      8_2|d9c6b31a-6187-446...|      VK Ads|       700|\n",
      "|0008466d-ccae-484...|9f493d79-2502-421...|2020-12-13 20:02:53|         51|     51_1|87e43501-9ca0-441...|  Google Ads|       468|\n",
      "|0009241d-96ae-49c...|7193f25e-88c3-41c...|2020-12-25 23:01:52|          8|      8_3|be102f46-b66b-4c4...|  Yandex Ads|       956|\n",
      "|000e6f29-8e57-40d...|17841a78-8eda-415...|2020-10-14 15:40:01|         44|     44_2|5fb70657-343c-435...|Facebook Ads|       920|\n",
      "|000e7f47-b192-490...|58250454-6c9d-4dd...|2020-10-16 05:41:32|          9|      9_1|e1128a1f-d692-4d1...|  Yandex Ads|       262|\n",
      "|000ee087-0cfd-41f...|44941462-9bb4-4ac...|2020-11-06 01:34:08|         45|     45_3|5752a060-82b6-4fb...| Twitter Ads|       456|\n",
      "+--------------------+--------------------+-------------------+-----------+---------+--------------------+------------+----------+\n",
      "only showing top 10 rows\n",
      "\n"
     ]
    },
    {
     "name": "stderr",
     "output_type": "stream",
     "text": [
      "                                                                                \r"
     ]
    }
   ],
   "source": [
    "# Drop columns with map attributes\n",
    "purchase_session_df = purchase_session_df.drop('purchaseEventType', 'openAttributes', 'purchaseAttributes')\n",
    "purchase_session_df.show(10)"
   ]
  },
  {
   "cell_type": "markdown",
   "id": "ea3c1ef7-254b-4af2-9829-5ffcef41ea85",
   "metadata": {},
   "source": [
    "### 9. Join with purchase table"
   ]
  },
  {
   "cell_type": "code",
   "execution_count": 52,
   "id": "5a9a5e6a-fd3e-4af7-821c-71809ed713ef",
   "metadata": {},
   "outputs": [
    {
     "name": "stderr",
     "output_type": "stream",
     "text": [
      "[Stage 279:=========================>                               (4 + 5) / 9]\r"
     ]
    },
    {
     "name": "stdout",
     "output_type": "stream",
     "text": [
      "+--------------------+--------------------+-------------------+-----------+---------+--------------------+------------+----------+--------------------+-------------------+-----------+-----------+\n",
      "|              userId|             eventId|          eventTime|partitionId|sessionId|         purchase_id|   channelId|campaignId|          purchaseId|       purchaseTime|billingCost|isConfirmed|\n",
      "+--------------------+--------------------+-------------------+-----------+---------+--------------------+------------+----------+--------------------+-------------------+-----------+-----------+\n",
      "|9a89a902-ebce-417...|e171ce5d-6360-400...|2020-10-27 21:49:04|         60|  60_4760|0000779f-cbf2-46e...|  Yandex Ads|       781|0000779f-cbf2-46e...|2020-10-27 21:49:04|     871.51|       true|\n",
      "|b8b3b7c7-f75e-47e...|a61841be-9b76-4f3...|2020-11-10 22:40:38|         21|  21_5663|0000b4d0-364c-4dd...|      VK Ads|       446|0000b4d0-364c-4dd...|2020-11-10 22:40:38|     801.85|       true|\n",
      "|d4b22dd9-fcaf-4d3...|5f671aa7-9e03-488...|2020-12-31 08:52:06|         24|  24_6426|00010f85-f7f1-4de...|Facebook Ads|       690|00010f85-f7f1-4de...|2020-12-31 08:52:06|     694.38|      false|\n",
      "|791aa270-7bb8-471...|56d7e767-1c7c-4c4...|2020-11-01 13:12:46|         23|  23_3762|00023a08-5a7a-4e3...| Twitter Ads|       451|00023a08-5a7a-4e3...|2020-11-01 13:12:46|      131.1|       true|\n",
      "|e41dba1f-4b2f-451...|9dcf1ea1-d579-44f...|2020-11-27 09:44:43|         10|  10_6830|00034bb3-034b-423...|  Yandex Ads|       813|00034bb3-034b-423...|2020-11-27 09:44:43|      575.6|      false|\n",
      "|333bb00f-4cc2-4ff...|db132f7b-e727-4e2...|2020-12-21 13:32:27|         36|  36_1598|0007c0ad-9f10-4a3...| Twitter Ads|       779|0007c0ad-9f10-4a3...|2020-12-21 13:32:27|     539.13|      false|\n",
      "|2e9f2e08-0002-43c...|06db57a5-ca13-4e7...|2020-11-20 00:44:21|         52|  52_1409|0007f16c-09d3-470...|      VK Ads|       271|0007f16c-09d3-470...|2020-11-20 00:44:21|     471.11|       true|\n",
      "|bba2b56e-740c-43b...|7d344dbf-b451-48f...|2020-11-05 12:52:14|         52|  52_5629|0008389d-b223-4e4...|Facebook Ads|       779|0008389d-b223-4e4...|2020-11-05 12:52:14|     807.79|      false|\n",
      "|f3711591-ed59-49a...|ef23f3ea-3930-498...|2020-11-12 14:02:43|         22|  22_7455|000a3482-cd74-4c8...|  Google Ads|       853|000a3482-cd74-4c8...|2020-11-12 14:02:43|     968.95|       true|\n",
      "|e8cc6012-bd6a-472...|d02d034e-8eea-4cf...|2020-09-27 15:09:46|         48|  48_7080|000a3e78-cd52-423...|  Yandex Ads|       101|000a3e78-cd52-423...|2020-09-27 15:09:46|     587.03|      false|\n",
      "+--------------------+--------------------+-------------------+-----------+---------+--------------------+------------+----------+--------------------+-------------------+-----------+-----------+\n",
      "only showing top 10 rows\n",
      "\n"
     ]
    },
    {
     "name": "stderr",
     "output_type": "stream",
     "text": [
      "                                                                                \r"
     ]
    }
   ],
   "source": [
    "purchase_projection_df = purchase_session_df.join(user_purchases_df, purchase_session_df.purchase_id == user_purchases_df.purchaseId)\n",
    "purchase_projection_df.show(10)"
   ]
  },
  {
   "cell_type": "markdown",
   "id": "8371458f-3906-4165-99d7-9e54848756b4",
   "metadata": {},
   "source": [
    "### 10. Analysis - calculate final aggregates"
   ]
  },
  {
   "cell_type": "markdown",
   "id": "41ab9f8d-8a7c-48f4-8659-faa316a92bbe",
   "metadata": {},
   "source": [
    "#### Top Campaigns by billing costs"
   ]
  },
  {
   "cell_type": "code",
   "execution_count": 54,
   "id": "d29630a9-7c70-49f7-a7d8-afeedc2d3e26",
   "metadata": {},
   "outputs": [
    {
     "name": "stderr",
     "output_type": "stream",
     "text": [
      "[Stage 293:===================>                                     (3 + 6) / 9]\r"
     ]
    },
    {
     "name": "stdout",
     "output_type": "stream",
     "text": [
      "+----------+------------------+\n",
      "|campaignId|        total_cost|\n",
      "+----------+------------------+\n",
      "|       190|2041060.8399999996|\n",
      "|       528|        1510378.16|\n",
      "|       325|1470622.3200000003|\n",
      "|       585|        1047838.02|\n",
      "|       779|1031561.1400000004|\n",
      "|       650|        1031403.13|\n",
      "|       859|1024151.6599999998|\n",
      "|       610|1020675.5800000001|\n",
      "|       669|1019272.5700000001|\n",
      "|       461|        1018971.02|\n",
      "+----------+------------------+\n",
      "only showing top 10 rows\n",
      "\n"
     ]
    },
    {
     "name": "stderr",
     "output_type": "stream",
     "text": [
      "                                                                                \r"
     ]
    }
   ],
   "source": [
    "agg_df = purchase_projection_df \\\n",
    "    .where(col('isConfirmed') == True) \\\n",
    "    .groupby('campaignId') \\\n",
    "    .agg(sum('billingCost').alias('total_cost')) \\\n",
    "    .sort(desc('total_cost'))\n",
    "\n",
    "agg_df.show(10)"
   ]
  },
  {
   "cell_type": "markdown",
   "id": "a229c624-4c2c-4a4a-b637-935d76c5bbb8",
   "metadata": {},
   "source": [
    "#### Unique sessions by channel"
   ]
  },
  {
   "cell_type": "code",
   "execution_count": 55,
   "id": "3113fc85-c5d3-4c68-8562-f483018c0646",
   "metadata": {},
   "outputs": [
    {
     "name": "stderr",
     "output_type": "stream",
     "text": [
      "[Stage 306:======>                                                  (1 + 8) / 9]\r"
     ]
    },
    {
     "name": "stdout",
     "output_type": "stream",
     "text": [
      "+------------+---------------+\n",
      "|   channelId|unique_sessions|\n",
      "+------------+---------------+\n",
      "| Twitter Ads|          50356|\n",
      "|  Google Ads|          50122|\n",
      "|      VK Ads|          50008|\n",
      "|Facebook Ads|          49973|\n",
      "|  Yandex Ads|          49751|\n",
      "+------------+---------------+\n",
      "\n"
     ]
    },
    {
     "name": "stderr",
     "output_type": "stream",
     "text": [
      "                                                                                \r"
     ]
    }
   ],
   "source": [
    "agg_df2 = purchase_projection_df \\\n",
    "    .where(col('isConfirmed') == True) \\\n",
    "    .groupby('channelId') \\\n",
    "    .agg(countDistinct('sessionId').alias('unique_sessions')) \\\n",
    "    .sort(desc('unique_sessions'))\n",
    "\n",
    "agg_df2.show()"
   ]
  },
  {
   "cell_type": "code",
   "execution_count": null,
   "id": "fd2a7558-fefe-420d-92e7-1fab74e221e3",
   "metadata": {},
   "outputs": [],
   "source": []
  }
 ],
 "metadata": {
  "kernelspec": {
   "display_name": "spark-venv",
   "language": "python",
   "name": "spark-venv"
  },
  "language_info": {
   "codemirror_mode": {
    "name": "ipython",
    "version": 3
   },
   "file_extension": ".py",
   "mimetype": "text/x-python",
   "name": "python",
   "nbconvert_exporter": "python",
   "pygments_lexer": "ipython3",
   "version": "3.8.10"
  }
 },
 "nbformat": 4,
 "nbformat_minor": 5
}
